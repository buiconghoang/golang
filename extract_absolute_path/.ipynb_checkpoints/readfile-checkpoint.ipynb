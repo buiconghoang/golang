{
 "cells": [
  {
   "cell_type": "code",
   "execution_count": 58,
   "metadata": {},
   "outputs": [],
   "source": [
    "import re"
   ]
  },
  {
   "cell_type": "code",
   "execution_count": 69,
   "metadata": {},
   "outputs": [
    {
     "name": "stdout",
     "output_type": "stream",
     "text": [
      "/usr/local/bin  ---  True\n",
      "\"/usr/local/bin\"  ---  True\n",
      "move '/abc/abc'   ---  True\n",
      "move /abc/abc  ---  True\n"
     ]
    }
   ],
   "source": [
    "def is_able_to_contain_linux_paths(command: str):\n",
    "    pattern = r\"(^/|[\\s'\\\"]/)\"\n",
    "    re.compile(pattern)\n",
    "    r = re.findall(pattern, command)\n",
    "#     print(r)\n",
    "    if len(r) > 0:\n",
    "        return True\n",
    "    return False\n",
    "\n",
    "commands = [\"/usr/local/bin\", \"\\\"/usr/local/bin\\\"\", \"move '/abc/abc' \", \"move /abc/abc\"]\n",
    "for command in commands:\n",
    "    print(command, \" --- \", is_able_to_contain_linux_paths(command))"
   ]
  },
  {
   "cell_type": "code",
   "execution_count": 71,
   "metadata": {},
   "outputs": [
    {
     "name": "stdout",
     "output_type": "stream",
     "text": [
      "C:\\abcde\\ab.py  ---  True\n",
      "abc C:\\abcde\\ab.py  ---  True\n",
      "\"D://hello\\abc\"  ---  True\n",
      "move 'swam/abc'   ---  True\n",
      "move \"home\\hello\\a.py\" abc   ---  True\n",
      "'D://hello\\abc'  ---  True\n"
     ]
    }
   ],
   "source": [
    "def is_able_to_contain_window_paths(command: str):\n",
    "    disk_prefix = r\"((^[A-Za-z0-9]+|[\\s'\\\"][A-Za-z0-9]+):(\\\\+|\\/+))\"\n",
    "    keep_prefix = r\"((^(swam|home)|[\\s'\\\"](swam|home))(\\\\+|\\/+))\"\n",
    "    patterns = [keep_prefix, disk_prefix]\n",
    "    re.compile(keep_prefix)\n",
    "    re.compile(disk_prefix)\n",
    "    \n",
    "    for pattern in patterns:\n",
    "        r = re.findall(pattern, command)\n",
    "        if len(r) > 0:\n",
    "#             print(r)\n",
    "            return True\n",
    "    \n",
    "    return False\n",
    "\n",
    "commands = [\"C:\\\\abcde\\\\ab.py\", \"abc C:\\\\abcde\\\\ab.py\",  \"\\\"D://hello\\\\abc\\\"\", \"move 'swam/abc' \", \"move \\\"home\\\\hello\\\\a.py\\\" abc \", \"'D://hello\\\\abc'\"]\n",
    "for command in commands:\n",
    "    print(command, \" --- \", is_able_to_contain_window_paths(command))"
   ]
  },
  {
   "cell_type": "code",
   "execution_count": 74,
   "metadata": {},
   "outputs": [],
   "source": [
    "import os\n",
    "def export_linux_window_path(datapath: str):\n",
    "    file_names = os.listdir(datapath)\n",
    "    window_path_writer = open(\"window_paths.txt\", mode='w')\n",
    "    linux_path_writer = open(\"linux_paths.txt\", mode='w')\n",
    "    for file_name in file_names:\n",
    "        file_path = os.path.join(datapath, file_name)\n",
    "        with open(file_path, 'r') as f:\n",
    "            line = f.readline()\n",
    "            while line:\n",
    "                line = line.split(\"\\n\")[0]\n",
    "                parts = line.split(\"\\t\")\n",
    "#                 print(parts)\n",
    "                if len(parts) > 1:\n",
    "                    \n",
    "                    command = parts[1]\n",
    "                    if is_able_to_contain_window_paths(command):\n",
    "                        window_path_writer.write(command + \"\\n\")\n",
    "                        window_path_writer.flush()\n",
    "                    elif is_able_to_contain_linux_paths(command):\n",
    "                        linux_path_writer.write(command + \"\\n\")\n",
    "                        linux_path_writer.flush()\n",
    "                        \n",
    "                line = f.readline()\n",
    "    \n",
    "    window_path_writer.close()\n",
    "    linux_path_writer.close()\n",
    "    \n",
    "    \n",
    "export_linux_window_path(\"./data\")"
   ]
  },
  {
   "cell_type": "code",
   "execution_count": 75,
   "metadata": {},
   "outputs": [
    {
     "data": {
      "text/plain": [
       "['test.txt', 'test2.txt']"
      ]
     },
     "execution_count": 75,
     "metadata": {},
     "output_type": "execute_result"
    }
   ],
   "source": [
    "import os\n",
    "os.listdir(\"./data\")"
   ]
  },
  {
   "cell_type": "code",
   "execution_count": 76,
   "metadata": {},
   "outputs": [
    {
     "data": {
      "text/plain": [
       "'/home/hoang/sources/golang/extract_absolute_path'"
      ]
     },
     "execution_count": 76,
     "metadata": {},
     "output_type": "execute_result"
    }
   ],
   "source": [
    "os.getcwd()"
   ]
  },
  {
   "cell_type": "code",
   "execution_count": null,
   "metadata": {},
   "outputs": [],
   "source": []
  }
 ],
 "metadata": {
  "kernelspec": {
   "display_name": "Python 3",
   "language": "python",
   "name": "python3"
  },
  "language_info": {
   "codemirror_mode": {
    "name": "ipython",
    "version": 3
   },
   "file_extension": ".py",
   "mimetype": "text/x-python",
   "name": "python",
   "nbconvert_exporter": "python",
   "pygments_lexer": "ipython3",
   "version": "3.8.5"
  }
 },
 "nbformat": 4,
 "nbformat_minor": 4
}
